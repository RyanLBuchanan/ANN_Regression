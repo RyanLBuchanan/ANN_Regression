{
 "cells": [
  {
   "cell_type": "markdown",
   "metadata": {
    "colab_type": "text",
    "id": "3cbb7fRy-eyr"
   },
   "source": [
    "# Artificial Neural Network"
   ]
  },
  {
   "cell_type": "markdown",
   "metadata": {
    "colab_type": "text",
    "id": "8sNDnxE2-pwE"
   },
   "source": [
    "### Importing the libraries"
   ]
  },
  {
   "cell_type": "code",
   "execution_count": 2,
   "metadata": {},
   "outputs": [],
   "source": [
    "import numpy as np\n",
    "import pandas as pd\n",
    "import tensorflow as tf"
   ]
  },
  {
   "cell_type": "code",
   "execution_count": 3,
   "metadata": {},
   "outputs": [
    {
     "data": {
      "text/plain": [
       "'2.2.0'"
      ]
     },
     "execution_count": 3,
     "metadata": {},
     "output_type": "execute_result"
    }
   ],
   "source": [
    "tf.__version__"
   ]
  },
  {
   "cell_type": "markdown",
   "metadata": {
    "colab_type": "text",
    "id": "AG3FQEch-yuA"
   },
   "source": [
    "## Part 1 - Data Preprocessing"
   ]
  },
  {
   "cell_type": "markdown",
   "metadata": {
    "colab_type": "text",
    "id": "-4zq8Mza_D9O"
   },
   "source": [
    "### Importing the dataset"
   ]
  },
  {
   "cell_type": "code",
   "execution_count": 5,
   "metadata": {},
   "outputs": [],
   "source": [
    "dataset = pd.read_excel('Folds5x2_pp.xlsx')\n",
    "X = dataset.iloc[:, :-1].values # Matrix of features, independent variables, input\n",
    "y = dataset.iloc[:, -1].values # Dependent variable output "
   ]
  },
  {
   "cell_type": "code",
   "execution_count": 6,
   "metadata": {},
   "outputs": [
    {
     "name": "stdout",
     "output_type": "stream",
     "text": [
      "[[  14.96   41.76 1024.07   73.17]\n",
      " [  25.18   62.96 1020.04   59.08]\n",
      " [   5.11   39.4  1012.16   92.14]\n",
      " ...\n",
      " [  31.32   74.33 1012.92   36.48]\n",
      " [  24.48   69.45 1013.86   62.39]\n",
      " [  21.6    62.52 1017.23   67.87]]\n",
      "[463.26 444.37 488.56 ... 429.57 435.74 453.28]\n"
     ]
    }
   ],
   "source": [
    "print(X)\n",
    "print(y)"
   ]
  },
  {
   "cell_type": "markdown",
   "metadata": {
    "colab_type": "text",
    "id": "VC6omXel_Up0"
   },
   "source": [
    "### Splitting the dataset into the Training set and Test set"
   ]
  },
  {
   "cell_type": "code",
   "execution_count": 8,
   "metadata": {},
   "outputs": [],
   "source": [
    "from sklearn.model_selection import train_test_split\n",
    "X_train, X_test, y_train, y_test = train_test_split(X, y, test_size = 0.2, random_state = 0)"
   ]
  },
  {
   "cell_type": "markdown",
   "metadata": {
    "colab_type": "text",
    "id": "_mSLlAT9_eyI"
   },
   "source": [
    "## Part 2 - Building the ANN"
   ]
  },
  {
   "cell_type": "markdown",
   "metadata": {
    "colab_type": "text",
    "id": "CsBULd_f_wLY"
   },
   "source": [
    "### Initializing the ANN"
   ]
  },
  {
   "cell_type": "code",
   "execution_count": 9,
   "metadata": {},
   "outputs": [],
   "source": [
    "ann = tf.keras.models.Sequential()"
   ]
  },
  {
   "cell_type": "markdown",
   "metadata": {
    "colab_type": "text",
    "id": "iitAFJS_ABUn"
   },
   "source": [
    "### Adding the input layer and the first hidden layer"
   ]
  },
  {
   "cell_type": "code",
   "execution_count": null,
   "metadata": {},
   "outputs": [],
   "source": [
    "ann.add(tf.keras.layers.Dense(units=6, activation='relu'))"
   ]
  },
  {
   "cell_type": "markdown",
   "metadata": {
    "colab_type": "text",
    "id": "-lb4kK_wAKbs"
   },
   "source": [
    "### Adding the second hidden layer"
   ]
  },
  {
   "cell_type": "code",
   "execution_count": null,
   "metadata": {},
   "outputs": [],
   "source": [
    "ann.add(tf.keras.layers.Dense(units=6, activation='relu'))"
   ]
  },
  {
   "cell_type": "markdown",
   "metadata": {
    "colab_type": "text",
    "id": "jwMOmKb3AdBY"
   },
   "source": [
    "### Adding the output layer"
   ]
  },
  {
   "cell_type": "code",
   "execution_count": 11,
   "metadata": {},
   "outputs": [],
   "source": [
    "ann.add(tf.keras.layers.Dense(units=1))"
   ]
  },
  {
   "cell_type": "markdown",
   "metadata": {
    "colab_type": "text",
    "id": "fq7e4fF6A1yy"
   },
   "source": [
    "## Part 3 - Training the ANN"
   ]
  },
  {
   "cell_type": "markdown",
   "metadata": {
    "colab_type": "text",
    "id": "qDeylAs2An25"
   },
   "source": [
    "### Compiling the ANN"
   ]
  },
  {
   "cell_type": "code",
   "execution_count": 12,
   "metadata": {},
   "outputs": [],
   "source": [
    "ann.compile(optimizer='adam', loss = 'mean_squared_error')"
   ]
  },
  {
   "cell_type": "markdown",
   "metadata": {
    "colab_type": "text",
    "id": "YjVuiybYOo7r"
   },
   "source": [
    "### Training the ANN model on the Training set"
   ]
  },
  {
   "cell_type": "code",
   "execution_count": 13,
   "metadata": {},
   "outputs": [
    {
     "name": "stdout",
     "output_type": "stream",
     "text": [
      "Epoch 1/100\n",
      "240/240 [==============================] - 0s 505us/step - loss: 133034.7969\n",
      "Epoch 2/100\n",
      "240/240 [==============================] - 0s 497us/step - loss: 21713.6816\n",
      "Epoch 3/100\n",
      "240/240 [==============================] - 0s 551us/step - loss: 758.8817\n",
      "Epoch 4/100\n",
      "240/240 [==============================] - 0s 499us/step - loss: 470.9207\n",
      "Epoch 5/100\n",
      "240/240 [==============================] - 0s 694us/step - loss: 462.8455\n",
      "Epoch 6/100\n",
      "240/240 [==============================] - 0s 522us/step - loss: 453.5286\n",
      "Epoch 7/100\n",
      "240/240 [==============================] - 0s 513us/step - loss: 443.1769\n",
      "Epoch 8/100\n",
      "240/240 [==============================] - 0s 507us/step - loss: 431.0521\n",
      "Epoch 9/100\n",
      "240/240 [==============================] - 0s 507us/step - loss: 417.7651\n",
      "Epoch 10/100\n",
      "240/240 [==============================] - 0s 511us/step - loss: 403.2538\n",
      "Epoch 11/100\n",
      "240/240 [==============================] - 0s 520us/step - loss: 387.5104\n",
      "Epoch 12/100\n",
      "240/240 [==============================] - 0s 501us/step - loss: 370.3387\n",
      "Epoch 13/100\n",
      "240/240 [==============================] - 0s 549us/step - loss: 352.1202\n",
      "Epoch 14/100\n",
      "240/240 [==============================] - 0s 544us/step - loss: 332.6651\n",
      "Epoch 15/100\n",
      "240/240 [==============================] - 0s 501us/step - loss: 312.3243\n",
      "Epoch 16/100\n",
      "240/240 [==============================] - 0s 509us/step - loss: 291.2163\n",
      "Epoch 17/100\n",
      "240/240 [==============================] - 0s 507us/step - loss: 270.0695\n",
      "Epoch 18/100\n",
      "240/240 [==============================] - 0s 499us/step - loss: 248.2100\n",
      "Epoch 19/100\n",
      "240/240 [==============================] - 0s 524us/step - loss: 226.1977\n",
      "Epoch 20/100\n",
      "240/240 [==============================] - 0s 524us/step - loss: 205.0378\n",
      "Epoch 21/100\n",
      "240/240 [==============================] - 0s 497us/step - loss: 184.0444\n",
      "Epoch 22/100\n",
      "240/240 [==============================] - 0s 505us/step - loss: 163.7346\n",
      "Epoch 23/100\n",
      "240/240 [==============================] - 0s 499us/step - loss: 144.8480\n",
      "Epoch 24/100\n",
      "240/240 [==============================] - 0s 495us/step - loss: 127.0832\n",
      "Epoch 25/100\n",
      "240/240 [==============================] - 0s 513us/step - loss: 111.0366\n",
      "Epoch 26/100\n",
      "240/240 [==============================] - 0s 499us/step - loss: 96.8553\n",
      "Epoch 27/100\n",
      "240/240 [==============================] - 0s 509us/step - loss: 84.0810\n",
      "Epoch 28/100\n",
      "240/240 [==============================] - 0s 513us/step - loss: 73.0034\n",
      "Epoch 29/100\n",
      "240/240 [==============================] - 0s 530us/step - loss: 63.6497\n",
      "Epoch 30/100\n",
      "240/240 [==============================] - 0s 492us/step - loss: 55.9143\n",
      "Epoch 31/100\n",
      "240/240 [==============================] - 0s 501us/step - loss: 50.0153\n",
      "Epoch 32/100\n",
      "240/240 [==============================] - 0s 499us/step - loss: 44.5989\n",
      "Epoch 33/100\n",
      "240/240 [==============================] - 0s 501us/step - loss: 40.5835\n",
      "Epoch 34/100\n",
      "240/240 [==============================] - 0s 515us/step - loss: 37.3769\n",
      "Epoch 35/100\n",
      "240/240 [==============================] - 0s 507us/step - loss: 34.7164\n",
      "Epoch 36/100\n",
      "240/240 [==============================] - 0s 540us/step - loss: 32.5872\n",
      "Epoch 37/100\n",
      "240/240 [==============================] - 0s 580us/step - loss: 31.1013\n",
      "Epoch 38/100\n",
      "240/240 [==============================] - 0s 603us/step - loss: 29.8690\n",
      "Epoch 39/100\n",
      "240/240 [==============================] - 0s 605us/step - loss: 29.0510\n",
      "Epoch 40/100\n",
      "240/240 [==============================] - 0s 609us/step - loss: 28.1956\n",
      "Epoch 41/100\n",
      "240/240 [==============================] - 0s 694us/step - loss: 27.7731\n",
      "Epoch 42/100\n",
      "240/240 [==============================] - 0s 519us/step - loss: 27.5137\n",
      "Epoch 43/100\n",
      "240/240 [==============================] - 0s 515us/step - loss: 27.3930\n",
      "Epoch 44/100\n",
      "240/240 [==============================] - 0s 532us/step - loss: 27.1590\n",
      "Epoch 45/100\n",
      "240/240 [==============================] - 0s 540us/step - loss: 26.6302\n",
      "Epoch 46/100\n",
      "240/240 [==============================] - 0s 524us/step - loss: 26.6553\n",
      "Epoch 47/100\n",
      "240/240 [==============================] - 0s 499us/step - loss: 27.0491\n",
      "Epoch 48/100\n",
      "240/240 [==============================] - 0s 495us/step - loss: 26.7411\n",
      "Epoch 49/100\n",
      "240/240 [==============================] - 0s 515us/step - loss: 26.6011\n",
      "Epoch 50/100\n",
      "240/240 [==============================] - 0s 501us/step - loss: 26.4782\n",
      "Epoch 51/100\n",
      "240/240 [==============================] - 0s 503us/step - loss: 26.7060\n",
      "Epoch 52/100\n",
      "240/240 [==============================] - 0s 503us/step - loss: 26.7146\n",
      "Epoch 53/100\n",
      "240/240 [==============================] - 0s 513us/step - loss: 26.3744\n",
      "Epoch 54/100\n",
      "240/240 [==============================] - 0s 497us/step - loss: 26.6524\n",
      "Epoch 55/100\n",
      "240/240 [==============================] - 0s 507us/step - loss: 26.4812\n",
      "Epoch 56/100\n",
      "240/240 [==============================] - 0s 503us/step - loss: 26.5573\n",
      "Epoch 57/100\n",
      "240/240 [==============================] - 0s 505us/step - loss: 26.3439\n",
      "Epoch 58/100\n",
      "240/240 [==============================] - 0s 501us/step - loss: 26.2308\n",
      "Epoch 59/100\n",
      "240/240 [==============================] - 0s 495us/step - loss: 26.2787\n",
      "Epoch 60/100\n",
      "240/240 [==============================] - 0s 492us/step - loss: 26.6356\n",
      "Epoch 61/100\n",
      "240/240 [==============================] - 0s 495us/step - loss: 26.3488\n",
      "Epoch 62/100\n",
      "240/240 [==============================] - 0s 519us/step - loss: 26.4559\n",
      "Epoch 63/100\n",
      "240/240 [==============================] - 0s 499us/step - loss: 26.0713\n",
      "Epoch 64/100\n",
      "240/240 [==============================] - 0s 503us/step - loss: 26.4179\n",
      "Epoch 65/100\n",
      "240/240 [==============================] - 0s 499us/step - loss: 26.3168\n",
      "Epoch 66/100\n",
      "240/240 [==============================] - 0s 503us/step - loss: 26.1524\n",
      "Epoch 67/100\n",
      "240/240 [==============================] - 0s 501us/step - loss: 26.4926\n",
      "Epoch 68/100\n",
      "240/240 [==============================] - 0s 499us/step - loss: 26.5585\n",
      "Epoch 69/100\n",
      "240/240 [==============================] - 0s 505us/step - loss: 26.2348\n",
      "Epoch 70/100\n",
      "240/240 [==============================] - 0s 503us/step - loss: 26.4687\n",
      "Epoch 71/100\n",
      "240/240 [==============================] - 0s 501us/step - loss: 26.4464\n",
      "Epoch 72/100\n",
      "240/240 [==============================] - 0s 507us/step - loss: 26.1832\n",
      "Epoch 73/100\n",
      "240/240 [==============================] - 0s 499us/step - loss: 26.3451\n",
      "Epoch 74/100\n",
      "240/240 [==============================] - 0s 503us/step - loss: 26.0093\n",
      "Epoch 75/100\n",
      "240/240 [==============================] - 0s 499us/step - loss: 26.5742\n",
      "Epoch 76/100\n",
      "240/240 [==============================] - 0s 492us/step - loss: 26.6647\n",
      "Epoch 77/100\n",
      "240/240 [==============================] - 0s 490us/step - loss: 26.0925\n",
      "Epoch 78/100\n",
      "240/240 [==============================] - 0s 495us/step - loss: 26.2464\n",
      "Epoch 79/100\n",
      "240/240 [==============================] - 0s 513us/step - loss: 26.2523\n",
      "Epoch 80/100\n",
      "240/240 [==============================] - 0s 515us/step - loss: 26.1530\n",
      "Epoch 81/100\n",
      "240/240 [==============================] - 0s 517us/step - loss: 26.0690\n",
      "Epoch 82/100\n",
      "240/240 [==============================] - 0s 515us/step - loss: 26.2894\n",
      "Epoch 83/100\n",
      "240/240 [==============================] - 0s 553us/step - loss: 26.2939\n",
      "Epoch 84/100\n",
      "240/240 [==============================] - 0s 511us/step - loss: 26.2170\n",
      "Epoch 85/100\n",
      "240/240 [==============================] - 0s 522us/step - loss: 26.3497\n",
      "Epoch 86/100\n",
      "240/240 [==============================] - 0s 515us/step - loss: 26.0930\n",
      "Epoch 87/100\n",
      "240/240 [==============================] - 0s 499us/step - loss: 26.2789\n",
      "Epoch 88/100\n",
      "240/240 [==============================] - 0s 507us/step - loss: 26.2717\n",
      "Epoch 89/100\n",
      "240/240 [==============================] - 0s 505us/step - loss: 26.3101\n",
      "Epoch 90/100\n",
      "240/240 [==============================] - 0s 499us/step - loss: 26.2795\n",
      "Epoch 91/100\n",
      "240/240 [==============================] - 0s 499us/step - loss: 26.2729\n",
      "Epoch 92/100\n",
      "240/240 [==============================] - 0s 503us/step - loss: 26.0029\n",
      "Epoch 93/100\n",
      "240/240 [==============================] - 0s 503us/step - loss: 26.4892\n",
      "Epoch 94/100\n",
      "240/240 [==============================] - 0s 524us/step - loss: 26.2355\n",
      "Epoch 95/100\n",
      "240/240 [==============================] - 0s 488us/step - loss: 26.2284\n",
      "Epoch 96/100\n"
     ]
    },
    {
     "name": "stdout",
     "output_type": "stream",
     "text": [
      "240/240 [==============================] - 0s 505us/step - loss: 26.3705\n",
      "Epoch 97/100\n",
      "240/240 [==============================] - 0s 499us/step - loss: 26.0384\n",
      "Epoch 98/100\n",
      "240/240 [==============================] - 0s 499us/step - loss: 26.3710\n",
      "Epoch 99/100\n",
      "240/240 [==============================] - 0s 495us/step - loss: 26.3049\n",
      "Epoch 100/100\n",
      "240/240 [==============================] - 0s 499us/step - loss: 26.2575\n"
     ]
    },
    {
     "data": {
      "text/plain": [
       "<tensorflow.python.keras.callbacks.History at 0x1e76b259848>"
      ]
     },
     "execution_count": 13,
     "metadata": {},
     "output_type": "execute_result"
    }
   ],
   "source": [
    "ann.fit(X_train, y_train, batch_size = 32, epochs = 100)"
   ]
  },
  {
   "cell_type": "markdown",
   "metadata": {
    "colab_type": "text",
    "id": "0H0zKKNEBLD5"
   },
   "source": [
    "### Predicting the results of the Test set"
   ]
  },
  {
   "cell_type": "code",
   "execution_count": 14,
   "metadata": {},
   "outputs": [
    {
     "name": "stdout",
     "output_type": "stream",
     "text": [
      "[[430.31 431.23]\n",
      " [461.43 460.01]\n",
      " [464.96 461.14]\n",
      " ...\n",
      " [472.13 473.26]\n",
      " [439.09 438.  ]\n",
      " [458.23 463.28]]\n"
     ]
    }
   ],
   "source": [
    "y_pred = ann.predict(X_test)\n",
    "np.set_printoptions(precision=2)\n",
    "print(np.concatenate((y_pred.reshape(len(y_pred),1), y_test.reshape(len(y_test),1)), 1))"
   ]
  }
 ],
 "metadata": {
  "colab": {
   "collapsed_sections": [],
   "name": "Artificial Neural Network",
   "provenance": [],
   "toc_visible": true
  },
  "kernelspec": {
   "display_name": "Python 3",
   "language": "python",
   "name": "python3"
  },
  "language_info": {
   "codemirror_mode": {
    "name": "ipython",
    "version": 3
   },
   "file_extension": ".py",
   "mimetype": "text/x-python",
   "name": "python",
   "nbconvert_exporter": "python",
   "pygments_lexer": "ipython3",
   "version": "3.7.6"
  },
  "varInspector": {
   "cols": {
    "lenName": 16,
    "lenType": 16,
    "lenVar": 40
   },
   "kernels_config": {
    "python": {
     "delete_cmd_postfix": "",
     "delete_cmd_prefix": "del ",
     "library": "var_list.py",
     "varRefreshCmd": "print(var_dic_list())"
    },
    "r": {
     "delete_cmd_postfix": ") ",
     "delete_cmd_prefix": "rm(",
     "library": "var_list.r",
     "varRefreshCmd": "cat(var_dic_list()) "
    }
   },
   "types_to_exclude": [
    "module",
    "function",
    "builtin_function_or_method",
    "instance",
    "_Feature"
   ],
   "window_display": false
  }
 },
 "nbformat": 4,
 "nbformat_minor": 1
}
